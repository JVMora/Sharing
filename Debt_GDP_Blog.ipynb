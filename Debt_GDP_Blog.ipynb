{
 "cells": [
  {
   "cell_type": "markdown",
   "metadata": {},
   "source": [
    "Example taken from the book \"Towing Icebergs, falling dominoes, and other adventures in applied mathematics\" by Robert B. Banks"
   ]
  },
  {
   "cell_type": "code",
   "execution_count": 1,
   "metadata": {},
   "outputs": [],
   "source": [
    "%matplotlib inline\n",
    "import numpy as np\n",
    "import matplotlib.pyplot as plt\n",
    "from scipy import integrate\n",
    "from sympy import *\n",
    "import pandas as pd\n",
    "from pivottablejs import pivot_ui"
   ]
  },
  {
   "cell_type": "markdown",
   "metadata": {},
   "source": [
    "# Reading the data"
   ]
  },
  {
   "cell_type": "code",
   "execution_count": 2,
   "metadata": {},
   "outputs": [],
   "source": [
    "df = pd.read_csv(\"./world-development-indicators/usgs_1960_2021.csv\")"
   ]
  },
  {
   "cell_type": "code",
   "execution_count": 5,
   "metadata": {},
   "outputs": [],
   "source": [
    "#print(df.shape)\n",
    "#print(len(df.index))\n",
    "#print(len(df))"
   ]
  },
  {
   "cell_type": "code",
   "execution_count": null,
   "metadata": {},
   "outputs": [],
   "source": [
    "df.tail()"
   ]
  },
  {
   "cell_type": "code",
   "execution_count": 9,
   "metadata": {},
   "outputs": [],
   "source": [
    "#Select indicators from 1960 till 2017\n",
    "#df = df[:58]\n",
    "df = df[(df['Year'] < 2018)]"
   ]
  },
  {
   "cell_type": "code",
   "execution_count": null,
   "metadata": {},
   "outputs": [],
   "source": [
    "# GDP $ billion, population million, Gross Public Debt $ billion\n",
    "\n",
    "df.tail()"
   ]
  },
  {
   "cell_type": "code",
   "execution_count": 11,
   "metadata": {},
   "outputs": [
    {
     "data": {
      "text/plain": [
       "Index(['Year', 'GDP-US $ billion nominal', 'Population-US million',\n",
       "       'Gross Public Debt-fed $ billion nominal'],\n",
       "      dtype='object')"
      ]
     },
     "execution_count": 11,
     "metadata": {},
     "output_type": "execute_result"
    }
   ],
   "source": [
    "df.columns"
   ]
  },
  {
   "cell_type": "code",
   "execution_count": 12,
   "metadata": {},
   "outputs": [],
   "source": [
    "df.columns = ['Year', 'GDP', 'Population', 'Debt']"
   ]
  },
  {
   "cell_type": "markdown",
   "metadata": {},
   "source": [
    "Total Public Debt as Percent of Gross Domestic Product"
   ]
  },
  {
   "cell_type": "code",
   "execution_count": 13,
   "metadata": {},
   "outputs": [],
   "source": [
    "df['Debt_GDP'] = (df['Debt'] / df['GDP']) * 100"
   ]
  },
  {
   "cell_type": "code",
   "execution_count": 14,
   "metadata": {},
   "outputs": [
    {
     "data": {
      "text/html": [
       "<div>\n",
       "<style scoped>\n",
       "    .dataframe tbody tr th:only-of-type {\n",
       "        vertical-align: middle;\n",
       "    }\n",
       "\n",
       "    .dataframe tbody tr th {\n",
       "        vertical-align: top;\n",
       "    }\n",
       "\n",
       "    .dataframe thead th {\n",
       "        text-align: right;\n",
       "    }\n",
       "</style>\n",
       "<table border=\"1\" class=\"dataframe\">\n",
       "  <thead>\n",
       "    <tr style=\"text-align: right;\">\n",
       "      <th></th>\n",
       "      <th>Year</th>\n",
       "      <th>GDP</th>\n",
       "      <th>Population</th>\n",
       "      <th>Debt</th>\n",
       "      <th>Debt_GDP</th>\n",
       "    </tr>\n",
       "  </thead>\n",
       "  <tbody>\n",
       "    <tr>\n",
       "      <th>0</th>\n",
       "      <td>1960</td>\n",
       "      <td>543.3</td>\n",
       "      <td>179.323</td>\n",
       "      <td>290.53</td>\n",
       "      <td>53.475060</td>\n",
       "    </tr>\n",
       "    <tr>\n",
       "      <th>1</th>\n",
       "      <td>1961</td>\n",
       "      <td>563.3</td>\n",
       "      <td>181.588</td>\n",
       "      <td>292.65</td>\n",
       "      <td>51.952778</td>\n",
       "    </tr>\n",
       "    <tr>\n",
       "      <th>2</th>\n",
       "      <td>1962</td>\n",
       "      <td>605.1</td>\n",
       "      <td>183.881</td>\n",
       "      <td>302.93</td>\n",
       "      <td>50.062800</td>\n",
       "    </tr>\n",
       "    <tr>\n",
       "      <th>3</th>\n",
       "      <td>1963</td>\n",
       "      <td>638.6</td>\n",
       "      <td>186.204</td>\n",
       "      <td>310.32</td>\n",
       "      <td>48.593799</td>\n",
       "    </tr>\n",
       "    <tr>\n",
       "      <th>4</th>\n",
       "      <td>1964</td>\n",
       "      <td>685.8</td>\n",
       "      <td>188.555</td>\n",
       "      <td>316.06</td>\n",
       "      <td>46.086323</td>\n",
       "    </tr>\n",
       "    <tr>\n",
       "      <th>5</th>\n",
       "      <td>1965</td>\n",
       "      <td>743.7</td>\n",
       "      <td>190.937</td>\n",
       "      <td>322.32</td>\n",
       "      <td>43.340056</td>\n",
       "    </tr>\n",
       "    <tr>\n",
       "      <th>6</th>\n",
       "      <td>1966</td>\n",
       "      <td>815.0</td>\n",
       "      <td>193.348</td>\n",
       "      <td>328.50</td>\n",
       "      <td>40.306748</td>\n",
       "    </tr>\n",
       "    <tr>\n",
       "      <th>7</th>\n",
       "      <td>1967</td>\n",
       "      <td>861.7</td>\n",
       "      <td>195.790</td>\n",
       "      <td>340.45</td>\n",
       "      <td>39.509110</td>\n",
       "    </tr>\n",
       "    <tr>\n",
       "      <th>8</th>\n",
       "      <td>1968</td>\n",
       "      <td>942.5</td>\n",
       "      <td>198.263</td>\n",
       "      <td>368.69</td>\n",
       "      <td>39.118302</td>\n",
       "    </tr>\n",
       "    <tr>\n",
       "      <th>9</th>\n",
       "      <td>1969</td>\n",
       "      <td>1019.9</td>\n",
       "      <td>200.766</td>\n",
       "      <td>365.77</td>\n",
       "      <td>35.863320</td>\n",
       "    </tr>\n",
       "  </tbody>\n",
       "</table>\n",
       "</div>"
      ],
      "text/plain": [
       "   Year     GDP  Population    Debt   Debt_GDP\n",
       "0  1960   543.3     179.323  290.53  53.475060\n",
       "1  1961   563.3     181.588  292.65  51.952778\n",
       "2  1962   605.1     183.881  302.93  50.062800\n",
       "3  1963   638.6     186.204  310.32  48.593799\n",
       "4  1964   685.8     188.555  316.06  46.086323\n",
       "5  1965   743.7     190.937  322.32  43.340056\n",
       "6  1966   815.0     193.348  328.50  40.306748\n",
       "7  1967   861.7     195.790  340.45  39.509110\n",
       "8  1968   942.5     198.263  368.69  39.118302\n",
       "9  1969  1019.9     200.766  365.77  35.863320"
      ]
     },
     "execution_count": 14,
     "metadata": {},
     "output_type": "execute_result"
    }
   ],
   "source": [
    "df.head(10)"
   ]
  },
  {
   "cell_type": "code",
   "execution_count": 15,
   "metadata": {},
   "outputs": [
    {
     "data": {
      "text/plain": [
       "[<matplotlib.lines.Line2D at 0xe915d90>]"
      ]
     },
     "execution_count": 15,
     "metadata": {},
     "output_type": "execute_result"
    },
    {
     "data": {
      "image/png": "[encoded data removed]",
      "text/plain": [
       "<matplotlib.figure.Figure at 0xd8cbed0>"
      ]
     },
     "metadata": {},
     "output_type": "display_data"
    }
   ],
   "source": [
    "fig, ax = plt.subplots(figsize=(12, 6))\n",
    "ax.plot(df['Year'], df['Debt_GDP'], color = 'green', label = 'Debt_GDP')\n",
    "#ax.scatter(df['Year'], df['GDP'], s = 2, color = 'blue', label = 'GDP')\n",
    "#ax.scatter(df['Year'], df['Debt'], s = 2, color = 'red', label = 'Debt')\n",
    "#ax.scatter(df['Year'], df['Population'], s = 2, color = 'brown', label = 'Population')\n",
    "#ax.set_xlabel('Year')\n",
    "#ax.set_ylabel('GDP')\n",
    "#ax.legend()\n"
   ]
  },
  {
   "cell_type": "markdown",
   "metadata": {},
   "source": [
    "We can see there are huge sums owing to the US, Is there a risk of another financial crisis?"
   ]
  },
  {
   "cell_type": "code",
   "execution_count": 16,
   "metadata": {
    "scrolled": true
   },
   "outputs": [],
   "source": [
    "years = [1970, 1972, 1974, 1976, 1978, 1980, 1982, 1984, 1986, 1988, 1990, 1992]"
   ]
  },
  {
   "cell_type": "code",
   "execution_count": 17,
   "metadata": {},
   "outputs": [],
   "source": [
    "ex = df.loc[df['Year'].isin(years)]"
   ]
  },
  {
   "cell_type": "code",
   "execution_count": 18,
   "metadata": {},
   "outputs": [],
   "source": [
    "new_index = np.arange(12)\n",
    "t = np.arange(0, 23, 2)"
   ]
  },
  {
   "cell_type": "code",
   "execution_count": 19,
   "metadata": {},
   "outputs": [],
   "source": [
    "ex = ex.set_index(new_index)\n",
    "ex['t'] = t"
   ]
  },
  {
   "cell_type": "code",
   "execution_count": 20,
   "metadata": {},
   "outputs": [
    {
     "data": {
      "text/html": [
       "<div>\n",
       "<style scoped>\n",
       "    .dataframe tbody tr th:only-of-type {\n",
       "        vertical-align: middle;\n",
       "    }\n",
       "\n",
       "    .dataframe tbody tr th {\n",
       "        vertical-align: top;\n",
       "    }\n",
       "\n",
       "    .dataframe thead th {\n",
       "        text-align: right;\n",
       "    }\n",
       "</style>\n",
       "<table border=\"1\" class=\"dataframe\">\n",
       "  <thead>\n",
       "    <tr style=\"text-align: right;\">\n",
       "      <th></th>\n",
       "      <th>Year</th>\n",
       "      <th>GDP</th>\n",
       "      <th>Population</th>\n",
       "      <th>Debt</th>\n",
       "      <th>Debt_GDP</th>\n",
       "      <th>t</th>\n",
       "    </tr>\n",
       "  </thead>\n",
       "  <tbody>\n",
       "    <tr>\n",
       "      <th>0</th>\n",
       "      <td>1970</td>\n",
       "      <td>1075.9</td>\n",
       "      <td>203.302</td>\n",
       "      <td>380.92</td>\n",
       "      <td>35.404777</td>\n",
       "      <td>0</td>\n",
       "    </tr>\n",
       "    <tr>\n",
       "      <th>1</th>\n",
       "      <td>1972</td>\n",
       "      <td>1282.4</td>\n",
       "      <td>207.752</td>\n",
       "      <td>435.94</td>\n",
       "      <td>33.994074</td>\n",
       "      <td>2</td>\n",
       "    </tr>\n",
       "    <tr>\n",
       "      <th>2</th>\n",
       "      <td>1974</td>\n",
       "      <td>1548.8</td>\n",
       "      <td>212.299</td>\n",
       "      <td>483.89</td>\n",
       "      <td>31.242898</td>\n",
       "      <td>4</td>\n",
       "    </tr>\n",
       "    <tr>\n",
       "      <th>3</th>\n",
       "      <td>1976</td>\n",
       "      <td>1877.6</td>\n",
       "      <td>216.945</td>\n",
       "      <td>628.97</td>\n",
       "      <td>33.498615</td>\n",
       "      <td>6</td>\n",
       "    </tr>\n",
       "    <tr>\n",
       "      <th>4</th>\n",
       "      <td>1978</td>\n",
       "      <td>2356.6</td>\n",
       "      <td>221.694</td>\n",
       "      <td>776.60</td>\n",
       "      <td>32.954256</td>\n",
       "      <td>8</td>\n",
       "    </tr>\n",
       "  </tbody>\n",
       "</table>\n",
       "</div>"
      ],
      "text/plain": [
       "   Year     GDP  Population    Debt   Debt_GDP  t\n",
       "0  1970  1075.9     203.302  380.92  35.404777  0\n",
       "1  1972  1282.4     207.752  435.94  33.994074  2\n",
       "2  1974  1548.8     212.299  483.89  31.242898  4\n",
       "3  1976  1877.6     216.945  628.97  33.498615  6\n",
       "4  1978  2356.6     221.694  776.60  32.954256  8"
      ]
     },
     "execution_count": 20,
     "metadata": {},
     "output_type": "execute_result"
    }
   ],
   "source": [
    "ex.head()"
   ]
  },
  {
   "cell_type": "markdown",
   "metadata": {},
   "source": [
    "# Exponential function"
   ]
  },
  {
   "cell_type": "code",
   "execution_count": 2,
   "metadata": {},
   "outputs": [],
   "source": [
    "init_printing()"
   ]
  },
  {
   "cell_type": "markdown",
   "metadata": {},
   "source": [
    "Let's asume that the data of the federal debt ($N$) of the United States for the period 1970 to 1992 can be described by the exponential growth relationship:\n",
    "\n",
    "$$\\frac{dN}{dt} = aN$$\n",
    "\n",
    "where $a$ is the growth coeffcient or interest rate. We can solve an ordinary differential equation in Python with SymPy"
   ]
  },
  {
   "cell_type": "code",
   "execution_count": 4,
   "metadata": {},
   "outputs": [],
   "source": [
    "t, a, N0 = symbols('t, a, N_0')\n",
    "N = Function('N')"
   ]
  },
  {
   "cell_type": "code",
   "execution_count": 5,
   "metadata": {},
   "outputs": [
    {
     "data": {
      "image/png": "[encoded data removed]",
      "text/latex": [
       "$$- a N{\\left (t \\right )} + \\frac{d}{d t} N{\\left (t \\right )} = 0$$"
      ],
      "text/plain": [
       "          d           \n",
       "-a⋅N(t) + ──(N(t)) = 0\n",
       "          dt          "
      ]
     },
     "execution_count": 5,
     "metadata": {},
     "output_type": "execute_result"
    }
   ],
   "source": [
    "Eq(N(t).diff(t) - a*N(t), 0)"
   ]
  },
  {
   "cell_type": "code",
   "execution_count": 6,
   "metadata": {},
   "outputs": [],
   "source": [
    "ode_sol = dsolve(_, N(t))"
   ]
  },
  {
   "cell_type": "code",
   "execution_count": 7,
   "metadata": {},
   "outputs": [
    {
     "data": {
      "image/png": "[encoded data removed]",
      "text/latex": [
       "$$N{\\left (t \\right )} = C_{1} e^{a t}$$"
      ],
      "text/plain": [
       "           a⋅t\n",
       "N(t) = C₁⋅ℯ   "
      ]
     },
     "execution_count": 7,
     "metadata": {},
     "output_type": "execute_result"
    }
   ],
   "source": [
    "ode_sol"
   ]
  },
  {
   "cell_type": "markdown",
   "metadata": {},
   "source": [
    "Another way to solve this equation is"
   ]
  },
  {
   "cell_type": "code",
   "execution_count": 8,
   "metadata": {},
   "outputs": [],
   "source": [
    "ode_sol = dsolve(Derivative(N(t), t) - a* N(t), N(t))"
   ]
  },
  {
   "cell_type": "code",
   "execution_count": 9,
   "metadata": {},
   "outputs": [
    {
     "data": {
      "image/png": "[encoded data removed]",
      "text/latex": [
       "$$N{\\left (t \\right )} = C_{1} e^{a t}$$"
      ],
      "text/plain": [
       "           a⋅t\n",
       "N(t) = C₁⋅ℯ   "
      ]
     },
     "execution_count": 9,
     "metadata": {},
     "output_type": "execute_result"
    }
   ],
   "source": [
    "ode_sol"
   ]
  },
  {
   "cell_type": "markdown",
   "metadata": {},
   "source": [
    "The general solution includes an unknown integration constant $C_1$ that we have to determine from the initial conditions for the problem. Here the initial condition is $N(0) = N_0$"
   ]
  },
  {
   "cell_type": "code",
   "execution_count": 10,
   "metadata": {},
   "outputs": [],
   "source": [
    "ics = {N(0): N0}"
   ]
  },
  {
   "cell_type": "code",
   "execution_count": 11,
   "metadata": {},
   "outputs": [
    {
     "data": {
      "image/png": "[encoded data removed]",
      "text/latex": [
       "$$\\left \\{ N{\\left (0 \\right )} : N_{0}\\right \\}$$"
      ],
      "text/plain": [
       "{N(0): N₀}"
      ]
     },
     "execution_count": 11,
     "metadata": {},
     "output_type": "execute_result"
    }
   ],
   "source": [
    "ics"
   ]
  },
  {
   "cell_type": "code",
   "execution_count": 12,
   "metadata": {},
   "outputs": [],
   "source": [
    "C_eq = Eq(ode_sol.lhs.subs(t, 0).subs(ics), ode_sol.rhs.subs(t, 0))"
   ]
  },
  {
   "cell_type": "code",
   "execution_count": 13,
   "metadata": {},
   "outputs": [
    {
     "data": {
      "image/png": "[encoded data removed]",
      "text/latex": [
       "$$N_{0} = C_{1}$$"
      ],
      "text/plain": [
       "N₀ = C₁"
      ]
     },
     "execution_count": 13,
     "metadata": {},
     "output_type": "execute_result"
    }
   ],
   "source": [
    "C_eq"
   ]
  },
  {
   "cell_type": "code",
   "execution_count": 14,
   "metadata": {},
   "outputs": [],
   "source": [
    "C_sol = solve(C_eq)"
   ]
  },
  {
   "cell_type": "code",
   "execution_count": 15,
   "metadata": {},
   "outputs": [
    {
     "data": {
      "image/png": "[encoded data removed]",
      "text/latex": [
       "$$\\left [ \\left \\{ C_{1} : N_{0}\\right \\}\\right ]$$"
      ],
      "text/plain": [
       "[{C₁: N₀}]"
      ]
     },
     "execution_count": 15,
     "metadata": {},
     "output_type": "execute_result"
    }
   ],
   "source": [
    "C_sol"
   ]
  },
  {
   "cell_type": "markdown",
   "metadata": {},
   "source": [
    "We can substitute the solution for $C_1$, which is trivial is this case, into the general solution of the differential equation problem to obtain the particular solution that corresponds to the given initial conditions"
   ]
  },
  {
   "cell_type": "code",
   "execution_count": 16,
   "metadata": {},
   "outputs": [
    {
     "data": {
      "image/png": "[encoded data removed]",
      "text/latex": [
       "$$N{\\left (t \\right )} = N_{0} e^{a t}$$"
      ],
      "text/plain": [
       "           a⋅t\n",
       "N(t) = N₀⋅ℯ   "
      ]
     },
     "execution_count": 16,
     "metadata": {},
     "output_type": "execute_result"
    }
   ],
   "source": [
    "ode_sol.subs(C_sol[0])"
   ]
  },
  {
   "cell_type": "markdown",
   "metadata": {},
   "source": [
    "Taking the logarithms of both sides of that equation gives the expression:\n",
    "\n",
    "$$log_e N = log_e N_0 + at$$\n",
    "\n",
    "which has the mathematical form of straight line and can be solved using least-squares regression."
   ]
  },
  {
   "cell_type": "code",
   "execution_count": 21,
   "metadata": {},
   "outputs": [
    {
     "name": "stderr",
     "output_type": "stream",
     "text": [
      "c:\\python36-32\\lib\\site-packages\\statsmodels\\compat\\pandas.py:56: FutureWarning: The pandas.core.datetools module is deprecated and will be removed in a future version. Please use the pandas.tseries module instead.\n",
      "  from pandas.core import datetools\n"
     ]
    }
   ],
   "source": [
    "import statsmodels.api as sm\n",
    "import statsmodels.formula.api as smf"
   ]
  },
  {
   "cell_type": "code",
   "execution_count": 22,
   "metadata": {},
   "outputs": [],
   "source": [
    "model = smf.ols(\"np.log(Debt) ~ t\", ex)"
   ]
  },
  {
   "cell_type": "code",
   "execution_count": 23,
   "metadata": {},
   "outputs": [
    {
     "name": "stdout",
     "output_type": "stream",
     "text": [
      "                            OLS Regression Results                            \n",
      "==============================================================================\n",
      "Dep. Variable:           np.log(Debt)   R-squared:                       0.991\n",
      "Model:                            OLS   Adj. R-squared:                  0.991\n",
      "Method:                 Least Squares   F-statistic:                     1152.\n",
      "Date:                Mon, 22 Oct 2018   Prob (F-statistic):           1.16e-11\n",
      "Time:                        17:31:03   Log-Likelihood:                 14.551\n",
      "No. Observations:                  12   AIC:                            -25.10\n",
      "Df Residuals:                      10   BIC:                            -24.13\n",
      "Df Model:                           1                                         \n",
      "Covariance Type:            nonrobust                                         \n",
      "==============================================================================\n",
      "                 coef    std err          t      P>|t|      [0.025      0.975]\n",
      "------------------------------------------------------------------------------\n",
      "Intercept      5.8021      0.043    135.526      0.000       5.707       5.898\n",
      "t              0.1119      0.003     33.944      0.000       0.105       0.119\n",
      "==============================================================================\n",
      "Omnibus:                        0.074   Durbin-Watson:                   0.713\n",
      "Prob(Omnibus):                  0.964   Jarque-Bera (JB):                0.293\n",
      "Skew:                           0.091   Prob(JB):                        0.864\n",
      "Kurtosis:                       2.257   Cond. No.                         24.5\n",
      "==============================================================================\n",
      "\n",
      "Warnings:\n",
      "[1] Standard Errors assume that the covariance matrix of the errors is correctly specified.\n"
     ]
    },
    {
     "name": "stderr",
     "output_type": "stream",
     "text": [
      "c:\\python36-32\\lib\\site-packages\\scipy\\stats\\stats.py:1390: UserWarning: kurtosistest only valid for n>=20 ... continuing anyway, n=12\n",
      "  \"anyway, n=%i\" % int(n))\n"
     ]
    }
   ],
   "source": [
    "print(model.fit().summary())"
   ]
  },
  {
   "cell_type": "code",
   "execution_count": 24,
   "metadata": {},
   "outputs": [],
   "source": [
    "p = model.fit().params"
   ]
  },
  {
   "cell_type": "code",
   "execution_count": 25,
   "metadata": {},
   "outputs": [
    {
     "data": {
      "text/plain": [
       "<matplotlib.legend.Legend at 0xf56d310>"
      ]
     },
     "execution_count": 25,
     "metadata": {},
     "output_type": "execute_result"
    },
    {
     "data": {
      "image/png": "[encoded data removed]",
      "text/plain": [
       "<matplotlib.figure.Figure at 0xf538b50>"
      ]
     },
     "metadata": {},
     "output_type": "display_data"
    }
   ],
   "source": [
    "fig, ax = plt.subplots(figsize=(10, 8))\n",
    "ax.scatter(ex['Year'], ex['GDP'], color = 'blue', label = 'GDP')\n",
    "ax.scatter(ex['Year'], ex['Debt'], color = 'red', label = 'Debt')\n",
    "ax.plot(ex['Year'], (np.exp(p.Intercept) * np.exp(p.t*ex['t'])), label = 'est_Debt')\n",
    "ax.set_xlabel('Year')\n",
    "ax.set_ylabel('GDP')\n",
    "ax.legend()"
   ]
  },
  {
   "cell_type": "markdown",
   "metadata": {},
   "source": [
    "# Logistic function"
   ]
  },
  {
   "cell_type": "markdown",
   "metadata": {},
   "source": [
    "One possible model for the growth of a population is the logistic equation:\n",
    "\n",
    "$$\\frac{dG}{dt} = rG(1 - \\frac{G}{G_*})$$\n",
    "\n",
    "Where $G_*$ is the value of $G$ as $t \\rightarrow \\infty$ and $r$ is a growth coefficient. Here we are going to try to fit a logistic curve to the *GDP* data. The relationship of the latter equation can be written in the form:\n",
    "\n",
    "$$\\frac{1}{G} \\frac{dG}{dt} = r - \\frac{r}{G_*}G$$\n",
    "\n",
    "This is the equation of a straight line. Utilizing the data of the table and performing a least-square regression gives the values $G_* = 11653.78$ and $r = 0.117$. The solution of the logistic differential equation with $G(t = 0) = G_0$ is:\n",
    "\n",
    "$$G = \\frac{G_*}{1 + (\\dfrac{G_*}{G_0} - 1)e^{-rt}}$$\n"
   ]
  },
  {
   "cell_type": "code",
   "execution_count": 26,
   "metadata": {},
   "outputs": [],
   "source": [
    "y = [(((ex['GDP'][i+2] - ex['GDP'][i]) / 4) / ex['GDP'][i+1]) for i in range(10)]"
   ]
  },
  {
   "cell_type": "code",
   "execution_count": 27,
   "metadata": {},
   "outputs": [],
   "source": [
    "x = ex['GDP'][1:11]"
   ]
  },
  {
   "cell_type": "code",
   "execution_count": 28,
   "metadata": {},
   "outputs": [],
   "source": [
    "data = pd.DataFrame({'x':x, 'y':y})"
   ]
  },
  {
   "cell_type": "code",
   "execution_count": 29,
   "metadata": {},
   "outputs": [],
   "source": [
    "log_model = smf.ols(\"y ~ x\", data)"
   ]
  },
  {
   "cell_type": "code",
   "execution_count": 30,
   "metadata": {},
   "outputs": [
    {
     "name": "stdout",
     "output_type": "stream",
     "text": [
      "                            OLS Regression Results                            \n",
      "==============================================================================\n",
      "Dep. Variable:                      y   R-squared:                       0.841\n",
      "Model:                            OLS   Adj. R-squared:                  0.821\n",
      "Method:                 Least Squares   F-statistic:                     42.30\n",
      "Date:                Mon, 22 Oct 2018   Prob (F-statistic):           0.000187\n",
      "Time:                        17:31:20   Log-Likelihood:                 35.885\n",
      "No. Observations:                  10   AIC:                            -67.77\n",
      "Df Residuals:                       8   BIC:                            -67.16\n",
      "Df Model:                           1                                         \n",
      "Covariance Type:            nonrobust                                         \n",
      "==============================================================================\n",
      "                 coef    std err          t      P>|t|      [0.025      0.975]\n",
      "------------------------------------------------------------------------------\n",
      "Intercept      0.1170      0.006     20.765      0.000       0.104       0.130\n",
      "x          -1.004e-05   1.54e-06     -6.504      0.000   -1.36e-05   -6.48e-06\n",
      "==============================================================================\n",
      "Omnibus:                        0.028   Durbin-Watson:                   1.335\n",
      "Prob(Omnibus):                  0.986   Jarque-Bera (JB):                0.231\n",
      "Skew:                           0.087   Prob(JB):                        0.891\n",
      "Kurtosis:                       2.275   Cond. No.                     8.70e+03\n",
      "==============================================================================\n",
      "\n",
      "Warnings:\n",
      "[1] Standard Errors assume that the covariance matrix of the errors is correctly specified.\n",
      "[2] The condition number is large, 8.7e+03. This might indicate that there are\n",
      "strong multicollinearity or other numerical problems.\n"
     ]
    },
    {
     "name": "stderr",
     "output_type": "stream",
     "text": [
      "c:\\python36-32\\lib\\site-packages\\scipy\\stats\\stats.py:1390: UserWarning: kurtosistest only valid for n>=20 ... continuing anyway, n=10\n",
      "  \"anyway, n=%i\" % int(n))\n"
     ]
    }
   ],
   "source": [
    "print(log_model.fit().summary())"
   ]
  },
  {
   "cell_type": "code",
   "execution_count": 31,
   "metadata": {},
   "outputs": [],
   "source": [
    "log_p = log_model.fit().params"
   ]
  },
  {
   "cell_type": "code",
   "execution_count": 32,
   "metadata": {},
   "outputs": [
    {
     "data": {
      "text/plain": [
       "Intercept    0.117046\n",
       "x           -0.000010\n",
       "dtype: float64"
      ]
     },
     "execution_count": 32,
     "metadata": {},
     "output_type": "execute_result"
    }
   ],
   "source": [
    "log_p"
   ]
  },
  {
   "cell_type": "code",
   "execution_count": 33,
   "metadata": {},
   "outputs": [
    {
     "name": "stdout",
     "output_type": "stream",
     "text": [
      "11653.784409510685\n"
     ]
    }
   ],
   "source": [
    "Ginf = -log_p.Intercept / log_p.x\n",
    "print(Ginf)"
   ]
  },
  {
   "cell_type": "code",
   "execution_count": 34,
   "metadata": {},
   "outputs": [],
   "source": [
    "G0 = ex.loc[ex['Year'] == 1970, 'GDP'].values[0]"
   ]
  },
  {
   "cell_type": "code",
   "execution_count": 84,
   "metadata": {},
   "outputs": [
    {
     "data": {
      "text/plain": [
       "<matplotlib.legend.Legend at 0x7c1d570>"
      ]
     },
     "execution_count": 84,
     "metadata": {},
     "output_type": "execute_result"
    },
    {
     "data": {
      "image/png": "[encoded data removed]",
      "text/plain": [
       "<matplotlib.figure.Figure at 0x7c486f0>"
      ]
     },
     "metadata": {},
     "output_type": "display_data"
    }
   ],
   "source": [
    "fig, ax = plt.subplots(figsize=(10, 8))\n",
    "ax.scatter(ex['Year'], ex['GDP'], color = 'blue', label = 'GDP')\n",
    "ax.scatter(ex['Year'], ex['Debt'], color = 'red', label = 'Debt')\n",
    "ax.plot(ex['Year'], (np.exp(p.Intercept) * np.exp(p.t*ex['t'])), label = 'est_Debt')\n",
    "ax.plot(ex['Year'], (Ginf / (1 + (((Ginf/G0) - 1)*np.exp(-log_p.Intercept*ex['t'])))), label = 'est_GDP')\n",
    "ax.set_xlabel('t, years')\n",
    "ax.set_ylabel('Debt, GDP, Billions of Dollars')\n",
    "ax.legend()"
   ]
  },
  {
   "cell_type": "markdown",
   "metadata": {},
   "source": [
    "Below is the plot showing the intersection point"
   ]
  },
  {
   "cell_type": "code",
   "execution_count": 91,
   "metadata": {},
   "outputs": [],
   "source": [
    "df30 = pd.DataFrame({'t': np.arange(0, 31, 2),\n",
    "                     'years' : np.arange(1970, 2001, 2)})"
   ]
  },
  {
   "cell_type": "code",
   "execution_count": 95,
   "metadata": {},
   "outputs": [
    {
     "data": {
      "text/plain": [
       "<matplotlib.legend.Legend at 0x1307d910>"
      ]
     },
     "execution_count": 95,
     "metadata": {},
     "output_type": "execute_result"
    },
    {
     "data": {
      "image/png": "[encoded data removed]",
      "text/plain": [
       "<matplotlib.figure.Figure at 0x1307d6f0>"
      ]
     },
     "metadata": {},
     "output_type": "display_data"
    }
   ],
   "source": [
    "fig, ax = plt.subplots(figsize=(10, 8))\n",
    "ax.scatter(ex['Year'], ex['GDP'], color = 'blue', label = 'GDP')\n",
    "ax.scatter(ex['Year'], ex['Debt'], color = 'red', label = 'Debt')\n",
    "ax.plot(df30['years'], (np.exp(p.Intercept) * np.exp(p.t*df30['t'])), label = 'est_Debt')\n",
    "ax.plot(df30['years'], (Ginf / (1 + (((Ginf/G0) - 1)*np.exp(-log_p.Intercept*df30['t'])))), label = 'est_GDP')\n",
    "ax.set_xlabel('t, years')\n",
    "ax.set_ylabel('Debt, GDP, Billions of Dollars')\n",
    "ax.legend()\n"
   ]
  }
 ],
 "metadata": {
  "kernelspec": {
   "display_name": "Python 3",
   "language": "python",
   "name": "python3"
  },
  "language_info": {
   "codemirror_mode": {
    "name": "ipython",
    "version": 3
   },
   "file_extension": ".py",
   "mimetype": "text/x-python",
   "name": "python",
   "nbconvert_exporter": "python",
   "pygments_lexer": "ipython3",
   "version": "3.6.3"
  }
 },
 "nbformat": 4,
 "nbformat_minor": 2
}
